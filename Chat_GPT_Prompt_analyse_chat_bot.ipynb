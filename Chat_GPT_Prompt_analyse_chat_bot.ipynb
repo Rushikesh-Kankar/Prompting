{
 "cells": [
  {
   "cell_type": "code",
   "execution_count": 32,
   "id": "b60119d5",
   "metadata": {},
   "outputs": [],
   "source": [
    "# Import the necessary libraries\n",
    "import openai\n",
    "import os\n",
    "from dotenv import load_dotenv, find_dotenv\n"
   ]
  },
  {
   "cell_type": "code",
   "execution_count": 34,
   "id": "2f315ff2",
   "metadata": {},
   "outputs": [],
   "source": [
    "# Load the OpenAI API key\n",
    "_ = load_dotenv(find_dotenv())\n",
    "openai.api_key  = os.getenv('OPENAI_API_KEY')"
   ]
  },
  {
   "cell_type": "code",
   "execution_count": 36,
   "id": "d078dd5a",
   "metadata": {},
   "outputs": [],
   "source": [
    "# Define a helper function to make chat model requests easier\n",
    "def openai_chat_model_request(messages):\n",
    "    response = openai.ChatCompletion.create(\n",
    "        model=\"gpt-3.5-turbo\",\n",
    "        messages=messages,\n",
    "    )\n",
    "    return response"
   ]
  },
  {
   "cell_type": "code",
   "execution_count": 69,
   "id": "11f8d7f4",
   "metadata": {},
   "outputs": [],
   "source": [
    "# Function to analyze a chatbot conversation\n",
    "def analyze_chat(chat_log):\n",
    "    messages = [\n",
    "       # {\"role\": \"system\", \"content\": \"You are an chatbot analyst. Review the provided conversation between chat bot and provide feedback on the performance of the chatbot. Highlight specific examples from which you derieved the pros and cons in different section.\"},\n",
    "   # {\"role\": \"system\", \"content\": \"You are a ChatGPT AI analyst. Review the provided conversation and evaluate the chatbot's performance based on the following tests: Factual Inquiry, Navigation, Error Handling, Feedback, Ambiguity, Performance, Personalization, and Context Retention. Provide detailed feedback with specific examples. in the next section provide pros and cons of the chat bot and give examples on how you arrived at the pros and cons\"},\n",
    "    {\"role\": \"system\", \"content\": \"You are a ChatGPT AI analyst. 1)Your task is to review the provided conversation and evaluate the chatbot's performance based on the following tests: Factual Inquiry, Navigation, Error Handling, Feedback, Ambiguity, Performance, Personalization, and Context Retention. 2) After analyzing all test, provide i) pros and ii) cons for the chatbot's overall performance , ensuring you illustrate each point with specific examples from the conversation.\"},\n",
    "    ]\n",
    "    for turn in chat_log:\n",
    "        role, content = turn\n",
    "        messages.append({\"role\": role, \"content\": content})\n",
    "\n",
    "    response = openai_chat_model_request(messages)\n",
    "    return response.choices[0].message['content']"
   ]
  },
  {
   "cell_type": "code",
   "execution_count": 70,
   "id": "8e9d2fd9",
   "metadata": {},
   "outputs": [
    {
     "name": "stdout",
     "output_type": "stream",
     "text": [
      "Factual Inquiry:\n",
      "- The chatbot correctly responded that it does not have the capability to provide weather updates.\n",
      "- The chatbot gave a factual recommendation for a book when asked.\n",
      "\n",
      "Navigation:\n",
      "- There were no navigation-related questions in the provided conversation.\n",
      "\n",
      "Error Handling:\n",
      "- The chatbot did not encounter any errors in the provided conversation.\n",
      "\n",
      "Feedback:\n",
      "- The chatbot did not ask for any feedback in the provided conversation.\n",
      "\n",
      "Ambiguity:\n",
      "- There were no ambiguous questions in the provided conversation.\n",
      "\n",
      "Performance:\n",
      "- The chatbot responded promptly to the questions asked.\n",
      "- The chatbot did not demonstrate any difficulty understanding or responding to the user's inquiries.\n",
      "\n",
      "Personalization:\n",
      "- The chatbot did not attempt to personalize the conversation.\n",
      "\n",
      "Context Retention:\n",
      "- The chatbot was able to provide a relevant response to each question posed by the user.\n",
      "\n",
      "Based on the provided conversation, the chatbot's performance was generally satisfactory. It provided accurate responses in a timely manner and did not encounter any errors. However, it did not attempt to personalize the conversation or solicit feedback from the user. Additionally, it was only able to provide a recommendation for a book, indicating that it may have limited knowledge or scope. \n",
      "Pros:\n",
      "- The chatbot demonstrated accurate responses and prompt performance.\n",
      "\n",
      "Cons:\n",
      "- The chatbot did not personalize the conversation or solicit feedback.\n",
      "- The chatbot's scope of knowledge was limited to providing book recommendations.\n"
     ]
    }
   ],
   "source": [
    "\n",
    "# Example usage\n",
    "chat_log = [\n",
    "    ('user', \"Hello, Chatbot!\"),\n",
    "    ('assistant', \"Hello, how can I assist you today?\"),\n",
    "    ('user', \"Can you tell me what the weather is like?\"),\n",
    "    ('assistant', \"I'm sorry, but I am not currently set up to provide real-time weather updates.\"),\n",
    "    ('user', \"Alright, can you recommend a good book?\"),\n",
    "    ('assistant', \"I recommend '1984' by George Orwell. It's a classic novel with thought-provoking themes.\"),\n",
    "]\n",
    "\n",
    "print(analyze_chat(chat_log))"
   ]
  }
 ],
 "metadata": {
  "kernelspec": {
   "display_name": "Python 3 (ipykernel)",
   "language": "python",
   "name": "python3"
  },
  "language_info": {
   "codemirror_mode": {
    "name": "ipython",
    "version": 3
   },
   "file_extension": ".py",
   "mimetype": "text/x-python",
   "name": "python",
   "nbconvert_exporter": "python",
   "pygments_lexer": "ipython3",
   "version": "3.9.12"
  }
 },
 "nbformat": 4,
 "nbformat_minor": 5
}
